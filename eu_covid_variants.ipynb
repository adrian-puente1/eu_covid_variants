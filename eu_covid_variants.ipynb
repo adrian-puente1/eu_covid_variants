{
 "metadata": {
  "language_info": {
   "codemirror_mode": {
    "name": "ipython",
    "version": 3
   },
   "file_extension": ".py",
   "mimetype": "text/x-python",
   "name": "python",
   "nbconvert_exporter": "python",
   "pygments_lexer": "ipython3",
   "version": "3.9.4"
  },
  "orig_nbformat": 2,
  "kernelspec": {
   "name": "python394jvsc74a57bd0bbf408b826681cf36650e65bc6bbdc0ddd6fa71aca0e8e7479f579d555180bef",
   "display_name": "Python 3.9.4 64-bit"
  },
  "metadata": {
   "interpreter": {
    "hash": "bbf408b826681cf36650e65bc6bbdc0ddd6fa71aca0e8e7479f579d555180bef"
   }
  }
 },
 "nbformat": 4,
 "nbformat_minor": 2,
 "cells": [
  {
   "source": [
    "https://www.kaggle.com/arashnic/data-on-covid19-variants-in-the-eueea-data  \n",
    "Country: [String]  \n",
    "country_code: 2-letter ISO country code [String]  \n",
    "year_week: yyyy-Www  \n",
    "Source: Data source, either GISAID EpiCoV database or TESSy. [String]  \n",
    "new_cases: Weekly number of new confirmed cases. Set to zero in the event that countries have negative case counts due to retrospective correction of data. [Numeric]  \n",
    "number_sequenced: Weekly number of sequences carried out [Numeric]  \n",
    "percentcasessequenced 100 x newcases/numbersequenced. [Numeric]  \n",
    "validdenominator: GISAID data: TRUE , TESSY data: FALSE if there are discrepancies in the data reported for a given week, such as where the sum of numberdetectionsvariant across all variants exceeds numbersequenced (aggregate data), or where no sequences have been reported that are coded as\n",
    "‘wild type’ (case -based data). [Numeric]  \n",
    "Variant: Each VOC, Other or UNK [Numeric]  \n",
    "numberdetectionsvariant: Number of detections reported of the variant [Numeric]  \n",
    "percentvariant : 100 x numberdetectionsvariant/ numbersequenced. Np value given if valid_denominator == FALSE [Numeric]"
   ],
   "cell_type": "markdown",
   "metadata": {}
  },
  {
   "cell_type": "code",
   "execution_count": 1,
   "metadata": {},
   "outputs": [],
   "source": [
    "import pandas as pd\n",
    "#import csv and sort by variant+week, remove TESSy data\n",
    "variant_df=pd.read_csv(\"variants.csv\",header=0);\n",
    "variant_df=variant_df.drop(columns=[\"country_code\",\"valid_denominator\"]);\n",
    "variant_df=variant_df.sort_values(by=['year_week','variant']);\n",
    "variant_df=variant_df.loc[variant_df[\"source\"]==\"GISAID\"];"
   ]
  },
  {
   "cell_type": "code",
   "execution_count": null,
   "metadata": {},
   "outputs": [],
   "source": []
  }
 ]
}