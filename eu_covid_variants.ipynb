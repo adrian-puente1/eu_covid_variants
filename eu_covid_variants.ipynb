{
 "metadata": {
  "language_info": {
   "codemirror_mode": {
    "name": "ipython",
    "version": 3
   },
   "file_extension": ".py",
   "mimetype": "text/x-python",
   "name": "python",
   "nbconvert_exporter": "python",
   "pygments_lexer": "ipython3",
   "version": "3.9.4"
  },
  "orig_nbformat": 2,
  "kernelspec": {
   "name": "python394jvsc74a57bd0bbf408b826681cf36650e65bc6bbdc0ddd6fa71aca0e8e7479f579d555180bef",
   "display_name": "Python 3.9.4 64-bit"
  },
  "metadata": {
   "interpreter": {
    "hash": "bbf408b826681cf36650e65bc6bbdc0ddd6fa71aca0e8e7479f579d555180bef"
   }
  }
 },
 "nbformat": 4,
 "nbformat_minor": 2,
 "cells": [
  {
   "source": [
    "https://www.kaggle.com/arashnic/data-on-covid19-variants-in-the-eueea-data  \n",
    "Country: [String]  \n",
    "country_code: 2-letter ISO country code [String]  \n",
    "year_week: yyyy-Www  \n",
    "Source: Data source, either GISAID EpiCoV database or TESSy. [String]  \n",
    "new_cases: Weekly number of new confirmed cases. Set to zero in the event that countries have negative case counts due to retrospective correction of data. [Numeric]  \n",
    "number_sequenced: Weekly number of sequences carried out [Numeric]  \n",
    "percentcasessequenced 100 x newcases/numbersequenced. [Numeric]  \n",
    "validdenominator: GISAID data: TRUE , TESSY data: FALSE if there are discrepancies in the data reported for a given week, such as where the sum of numberdetectionsvariant across all variants exceeds numbersequenced (aggregate data), or where no sequences have been reported that are coded as\n",
    "‘wild type’ (case -based data). [Numeric]  \n",
    "Variant: Each VOC, Other or UNK [Numeric]  \n",
    "numberdetectionsvariant: Number of detections reported of the variant [Numeric]  \n",
    "percentvariant : 100 x numberdetectionsvariant/ numbersequenced. Np value given if valid_denominator == FALSE [Numeric]"
   ],
   "cell_type": "markdown",
   "metadata": {}
  },
  {
   "cell_type": "code",
   "execution_count": null,
   "metadata": {},
   "outputs": [],
   "source": [
    "from datetime import datetime\n",
    "from os import path\n",
    "from pathlib import Path\n",
    "import pandas as pd\n",
    "import matplotlib\n",
    "import matplotlib.pyplot as plt\n",
    "import scipy\n",
    "#Functions\n",
    "def replaceDate(inputString):\n",
    "    if len(inputString[0])<10:\n",
    "        repString=inputString.replace(\"-\",\" \")+\" 0\"\n",
    "        repString=datetime.strptime(repString,\"%Y %W %w\")\n",
    "        return repString\n",
    "    else:\n",
    "        repString=inputString.replace(\"-\",\" \")\n",
    "        repString=datetime.strptime(repString,\"%Y %m %d\")\n",
    "        return repString\n",
    "\n",
    "def createGraph(input_df):\n",
    "    sel_B117_df=input_df.loc[input_df[\"variant\"]==\"B.1.1.7\"];\n",
    "    sel_B351_df=input_df.loc[input_df[\"variant\"]==\"B.1.351\"];\n",
    "    sel_OTHR_df=input_df.loc[input_df[\"variant\"]==\"Other\"];\n",
    "    sel_P1_df=input_df.loc[input_df[\"variant\"]==\"P.1\"];\n",
    "    fig,ax=plt.subplots()\n",
    "    titleString=\"Percentage of Variant Observed over Time in \"+input_df.iloc[0,0]\n",
    "    saveString=input_df.iloc[0,0]+\"_Percent_Variance.jpg\"\n",
    "    folderString=Path(\"graphs/\")\n",
    "    completeSaveString=folderString/saveString\n",
    "    ax.set_title(titleString)\n",
    "    ax.set_xlabel(\"Date\")\n",
    "    ax.set_ylabel(\"Percentage of Variant\")\n",
    "    ax.minorticks_on()\n",
    "    ax.set_axisbelow(True)\n",
    "    plt.grid(which='major',color='blue',linestyle='-',linewidth='1')\n",
    "    plt.grid(which='minor',color='black',linestyle=':',linewidth='0.5')\n",
    "    plt.xticks(rotation=45)\n",
    "    dates=matplotlib.dates.date2num(sel_B117_df[\"year_week\"])\n",
    "    plt.plot_date(dates,sel_B117_df[\"percent_variant\"],label=\"B.1.1.7\")\n",
    "    plt.plot_date(dates,sel_B351_df[\"percent_variant\"],label=\"B.1.351\")\n",
    "    plt.plot_date(dates,sel_OTHR_df[\"percent_variant\"],label=\"Other\")\n",
    "    plt.plot_date(dates,sel_P1_df[\"percent_variant\"],label=\"P.1\")\n",
    "    ax.legend()\n",
    "    plt.ioff()\n",
    "    plt.savefig(completeSaveString)\n",
    "    plt.close()\n",
    "    return"
   ]
  },
  {
   "cell_type": "code",
   "execution_count": 2,
   "metadata": {},
   "outputs": [],
   "source": [
    "#import csv and sort by variant+week, remove TESSy data\n",
    "if not path.exists(\"filtered_df.csv\"):\n",
    "    v_df=pd.read_csv(\"variants.csv\",header=0);\n",
    "    v_df=v_df.drop(columns=[\"country_code\",\"valid_denominator\"]);\n",
    "    v_df=v_df.sort_values(by=['year_week','variant']);\n",
    "    v_df=v_df.loc[v_df[\"source\"]==\"GISAID\"];\n",
    "    v_df=v_df.drop(columns=[\"source\"]);\n",
    "    v_df.to_csv('filtered_df.csv',index=False);\n",
    "else:\n",
    "    v_df=pd.read_csv(\"filtered_df.csv\",header=0)\n",
    "v_df[\"year_week\"]=v_df[\"year_week\"].apply(replaceDate)"
   ]
  },
  {
   "cell_type": "code",
   "execution_count": 3,
   "metadata": {},
   "outputs": [],
   "source": [
    "#select all countries and graph each variant for each country\n",
    "for x in v_df.country.unique():\n",
    "    selected_df=v_df.loc[v_df[\"country\"]==x];\n",
    "    createGraph(selected_df)"
   ]
  },
  {
   "cell_type": "code",
   "execution_count": null,
   "metadata": {},
   "outputs": [],
   "source": []
  }
 ]
}